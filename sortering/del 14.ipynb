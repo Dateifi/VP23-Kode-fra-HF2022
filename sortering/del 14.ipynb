{
 "cells": [
  {
   "cell_type": "markdown",
   "metadata": {},
   "source": [
    "# Heap: Et binært tre\n",
    "\n",
    "Se egen presentasjon. \n",
    "\n",
    "La oss nå se på en klasse som lagrer heap-elementene i en liste (kunne valgt en annen struktur også...) "
   ]
  },
  {
   "cell_type": "code",
   "execution_count": 1,
   "metadata": {},
   "outputs": [],
   "source": [
    "class Heap :\n",
    "\n",
    "    def __init__(self) :\n",
    "        self.__liste = []\n",
    "\n",
    "    def add(self, element) :\n",
    "        self.__liste.append(element)\n",
    "        current = len(self.__liste) - 1\n",
    "        parent = (current-1)//2\n",
    "        if (len(self.__liste) == 1): return\n",
    "        while self.__liste[current] > self.__liste[parent] :\n",
    "            self.__liste[current], self.__liste[parent] = self.__liste[parent], self.__liste[current] # Swap\n",
    "            current = parent\n",
    "            parent = (current-1)//2\n",
    "            if parent < 0 : break\n",
    "\n",
    "    def remove_root(self) :\n",
    "        if (len(self.__liste) == 0):  return None  # Nothing to remove\n",
    "\n",
    "        removedItem = self.__liste[0]  # Remove the last in the list\n",
    "        lastItem = self.__liste.pop()  # Last item will be the new root\n",
    "        if len(self.__liste) == 0 : return lastItem   # After popping, the list became empty, so we just return that one.\n",
    "        self.__liste[0] = lastItem\n",
    "        current = 0\n",
    "\n",
    "        while (current < len(self.__liste)) : \n",
    "            leftChild = 2*current + 1\n",
    "            rightChild = 2*current + 2\n",
    "            if leftChild >= len(self.__liste) : # There is no children\n",
    "                break  # We are done\n",
    "            \n",
    "            leftWillSwap = False\n",
    "            willSwap = False\n",
    "            if rightChild == len(self.__liste) : # There is only the left child, since the rightChild is out of bounds\n",
    "                if self.__liste[current] < self.__liste[leftChild] :\n",
    "                    leftWillSwap = True\n",
    "                    willSwap = True\n",
    "            else :\n",
    "                if self.__liste[leftChild] > self.__liste[current] :\n",
    "                    leftWillSwap = True\n",
    "                    willSwap = True\n",
    "                    if self.__liste[rightChild] > self.__liste[leftChild] :\n",
    "                        leftWillSwap = False\n",
    "            \n",
    "            if willSwap :\n",
    "                index = leftChild if leftWillSwap else rightChild\n",
    "                self.__liste[current], self.__liste[index] = self.__liste[index], self.__liste[current] # Swap\n",
    "                current = index\n",
    "            else :\n",
    "                break\n",
    "\n",
    "        return removedItem\n",
    "\n",
    "    def getSize(self) :\n",
    "        return len(self.__liste)\n",
    "\n",
    "    def print(self) :\n",
    "        print(self.__liste)\n"
   ]
  },
  {
   "cell_type": "markdown",
   "metadata": {},
   "source": [
    "Nå har vi klassen klar for å manipulere heap etter oppskriften vår. Denne kan nå brukes for å sortere på en veldig enkel måte. Listen vi har kan første legges inn i heap, og deretter plukkes ut av heap igjen. Den vil da automatisk bli sortert i riktig rekkefølge."
   ]
  },
  {
   "cell_type": "code",
   "execution_count": 13,
   "metadata": {},
   "outputs": [
    {
     "name": "stdout",
     "output_type": "stream",
     "text": [
      "[9, 5, 2, 0, 4]\n"
     ]
    },
    {
     "data": {
      "text/plain": [
       "[0, 2, 4, 5, 9]"
      ]
     },
     "execution_count": 13,
     "metadata": {},
     "output_type": "execute_result"
    }
   ],
   "source": [
    "def heapsort(liste) :\n",
    "    heap = Heap()\n",
    "    for item in liste :\n",
    "        heap.add(item)\n",
    "\n",
    "    heap.print()\n",
    "\n",
    "    for i in range(len(liste)-1,-1,-1) :\n",
    "        liste[i] = heap.remove_root()\n",
    "    \n",
    "    return liste\n",
    "    \n",
    "liste = [0,5,2,4,9]\n",
    "heapsort(liste)"
   ]
  }
 ],
 "metadata": {
  "interpreter": {
   "hash": "a290f780ee47b7dfaf60850b6ed37e591df7deb7c526863d2cdd3e0731d70467"
  },
  "kernelspec": {
   "display_name": "Python 3.9.7 ('base')",
   "language": "python",
   "name": "python3"
  },
  "language_info": {
   "codemirror_mode": {
    "name": "ipython",
    "version": 3
   },
   "file_extension": ".py",
   "mimetype": "text/x-python",
   "name": "python",
   "nbconvert_exporter": "python",
   "pygments_lexer": "ipython3",
   "version": "3.9.7"
  },
  "orig_nbformat": 4
 },
 "nbformat": 4,
 "nbformat_minor": 2
}
