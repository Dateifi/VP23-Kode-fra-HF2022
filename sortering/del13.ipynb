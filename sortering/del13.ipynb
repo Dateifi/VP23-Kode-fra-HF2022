{
 "cells": [
  {
   "cell_type": "markdown",
   "metadata": {},
   "source": [
    "# Sortering\n",
    "\n",
    "Vi vil gå gjennom 5 forskjellige algoritmer for sortering (det eksisterer mange flere)\n",
    "* Insertion sort\n",
    "* Bubble sort\n",
    "* Merge sort\n",
    "* Quick sort\n",
    "* Heap sort\n",
    "\n",
    "Det vil kun være tall som behandles, og disse vil være lagret i lister. Husk at vi allerede har vært gjennom en algoritme for sortering, selection sort. Denne fungerte ved at man for hvert element i lista lette etter et element i den gjenstående delen av lista som var mindre. Dersom så, ble disse byttet. Dette er den enkleste formen for sortering, men har $O(n^2)$ operasjoner, noe som gjør den nokså ineffektiv for store lister iallefall. La oss først se på insertion sort\n",
    "\n",
    "## Insertion sort\n",
    "Denne fungerer litt slik som selection sort, ved at man går gjennom hvert element suksessivt framover i lista. Når man møter på et element som ikke er større enn foregående element, sørger man for å flytte dette elementet til det stedet i lista der det \"hører hjemme\". For å gjøre dette trenger man en indre løkke som spinner seg bakover til man finner dette stedet, og suksessivt flytter om på de foregående elementene mens man leter seg igjennom."
   ]
  },
  {
   "cell_type": "code",
   "execution_count": 19,
   "metadata": {},
   "outputs": [
    {
     "data": {
      "text/plain": [
       "[-1, 1, 2, 2, 3, 6, 9, 9]"
      ]
     },
     "execution_count": 19,
     "metadata": {},
     "output_type": "execute_result"
    }
   ],
   "source": [
    "def insertionSort(liste) :\n",
    "\n",
    "    for i in range(1, len(liste)) :\n",
    "        currentElement = liste[i]\n",
    "            # Need to search and replace backwards in list\n",
    "        k = i-1\n",
    "        while k >= 0 and liste[k] > currentElement:\n",
    "            liste[k+1] = liste[k]\n",
    "            k -= 1\n",
    "            \n",
    "        liste[k+1] = currentElement\n",
    "\n",
    "    return liste\n",
    "\n",
    "liste = [1,2, 6, 9, 3, 2, 9,-1]\n",
    "insertionSort(liste)"
   ]
  },
  {
   "cell_type": "markdown",
   "metadata": {},
   "source": [
    "I verste fall vil denne også være av orden $O(n^2)$, siden man for hvert element kan risikere å måtte flytte currentElement helt bakerst.\n",
    "\n",
    "## Boble sortering\n",
    "Boble-sortering fungerer på litt samme måte som insertionsort, ved at man sammenligner to nabo-elementer og finner ut om rekkefølgen er riktig. MEN, i motsetning til insertionsort, flytter man bare element et hakk ved hjelp av bytting. Så gjør man suksessive nye scan gjennom lista helt til alle elementene er i riktig rekkefølge. Neste scan kan minskes til ett hakk mindre opp i lista, siden siste element vi \"flyte\" opp til rett plass i foregående scan."
   ]
  },
  {
   "cell_type": "code",
   "execution_count": null,
   "metadata": {},
   "outputs": [],
   "source": [
    "def bubbleSort(liste) :\n",
    "    \n",
    "    k = len(liste)\n",
    "    while k > 0 :\n",
    "        for i in range(k-1) :\n",
    "            if liste[i] > liste[i+1] :\n",
    "            # Do the swapping\n",
    "                liste[i], liste[i+1] = liste[i+1], liste[i]\n",
    "\n",
    "        k-= 1\n",
    "\n",
    "    return liste\n",
    "\n",
    "liste = [1,2, 6, 9, 3, 2, 9]\n",
    "bubbleSort(liste)\n"
   ]
  },
  {
   "cell_type": "markdown",
   "metadata": {},
   "source": [
    "Observer at vi egentlig ikke trenger å kjøre neste scan dersom vi ikke har gjort noen bytte i forrige runde, da er jo lista allerede ferdig sortert. Vi tar vare på om dette er tilfelle i et `needNewScan` flag"
   ]
  },
  {
   "cell_type": "code",
   "execution_count": null,
   "metadata": {},
   "outputs": [],
   "source": [
    "def bubbleSort(liste) :\n",
    "    \n",
    "    k = len(liste)\n",
    "    needNewScan = True\n",
    "    while k > 0 and needNewScan:\n",
    "        needNewScan = False\n",
    "        for i in range(k-1) :\n",
    "            if liste[i] > liste[i+1] :\n",
    "                # Do the swapping\n",
    "                liste[i], liste[i+1] = liste[i+1], liste[i]\n",
    "                needNewScan = True\n",
    "        k-= 1\n",
    "\n",
    "    return liste\n",
    "\n",
    "liste = [1,2, 6, 9, 3, 2, 9]\n",
    "bubbleSort(liste)"
   ]
  },
  {
   "cell_type": "markdown",
   "metadata": {},
   "source": [
    "## Mergesort\n",
    "\n",
    "Mergesort er en rekursiv sorteringsalgoritme. Den splitter opp listen som skal sorteres i to halvdeler, splitter hver av disse i to halvdeler, osv, helt til det bare er ett element igjen i hver subliste. Deretter flettes disse sammen suksessivt mens man sammenligner elementer i hver av listene og sørger for at de kommer på rett plass slik det vises i figuren under hentet fra Liang:\n",
    "\n",
    "![](../resources/img/merge-sort.png)\n",
    "\n",
    "(Ta også en titt på figur/animasjon 17.5 i Liang)"
   ]
  },
  {
   "cell_type": "code",
   "execution_count": 1,
   "metadata": {},
   "outputs": [
    {
     "data": {
      "text/plain": [
       "[-7, -2, -2, -1, 1, 1, 3, 4, 4, 5, 8, 9]"
      ]
     },
     "execution_count": 1,
     "metadata": {},
     "output_type": "execute_result"
    }
   ],
   "source": [
    "def merge_sort(liste) :\n",
    "    if len(liste) > 1 :\n",
    "        # Split list in two\n",
    "        first_half = liste[:len(liste)//2]\n",
    "        second_half = liste[len(liste)//2:]\n",
    "        \n",
    "        merge_sort(first_half)\n",
    "        merge_sort(second_half)\n",
    "\n",
    "        merge(first_half, second_half, liste)\n",
    "\n",
    "    return liste\n",
    "\n",
    "def merge(first, second, target) :\n",
    "\n",
    "    current1 = 0\n",
    "    current2 = 0\n",
    "    current3 = 0\n",
    "    while current3 < len(target) :\n",
    "\n",
    "        if first[current1] < second[current2] :\n",
    "            target[current3] = first[current1]\n",
    "            current1 += 1\n",
    "        else :\n",
    "            target[current3] = second[current2]\n",
    "            current2 += 1\n",
    "        current3 += 1\n",
    "\n",
    "        # No more items in one of the halves to compare with, need to break out of this logic\n",
    "        if current2 == len(second) or current1 == len(first) :\n",
    "            break\n",
    "\n",
    "    # If there are items left in first, that means second is empty. Flush the rest of first into target\n",
    "    while current1 < len(first) :\n",
    "        target[current3] = first[current1]\n",
    "        current3 += 1\n",
    "        current1 += 1\n",
    "\n",
    "    # OR: If there are items left in second, that means first is empty. Flush the rest of second into target\n",
    "    while current2 < len(second) :\n",
    "        target[current3] = second[current2]\n",
    "        current3 += 1\n",
    "        current2 += 1\n",
    "\n",
    "    return target\n",
    "\n",
    "\n",
    "liste = [1,-1,4,5,-2,3,9,1,-7,4,8,-2]\n",
    "merge_sort(liste)"
   ]
  },
  {
   "cell_type": "markdown",
   "metadata": {},
   "source": [
    "Denne rutina vil bruke i orden $O(n\\log{n})$ operasjoner, og er derfor mer effektiv enn de vi har vært gjennom til nå.\n",
    "\n",
    "## Quicksort\n",
    "\n",
    "Quicksort er vel regnet for å være state-of-the-art når det gjelder effektivitet. Den fungerer også rekursivt, men isteden for å dele opp i halvdeler, så deler den array opp rundt et \"pivot\" point. Pivot betyr vippe-punkt, og brukes til å avgjøre hva som er mindre enn og større enn i en sorterings-sammenheng.\n",
    "\n",
    "Vis "
   ]
  },
  {
   "cell_type": "code",
   "execution_count": 1,
   "metadata": {},
   "outputs": [
    {
     "data": {
      "text/plain": [
       "[-7, -2, -2, -1, 1, 1, 3, 4, 4, 5, 8, 9]"
      ]
     },
     "execution_count": 1,
     "metadata": {},
     "output_type": "execute_result"
    }
   ],
   "source": [
    "def quicksort(liste) :\n",
    "    return quicksort_helper(liste, 0, len(liste)-1)\n",
    "\n",
    "def quicksort_helper(liste, left, right) :\n",
    "\n",
    "    if left >= right :\n",
    "        return liste\n",
    "\n",
    "    pivotValue = liste[(right + left)//2]\n",
    "    partitionIndex = partition(liste, left, right, pivotValue)\n",
    "    quicksort_helper(liste, left, partitionIndex-1)\n",
    "    quicksort_helper(liste, partitionIndex, right)\n",
    "\n",
    "    return liste\n",
    "\n",
    "def partition(liste, left, right, pivot) :\n",
    "\n",
    "    while right >= left :\n",
    "        # Find first postion in list from the left that has a element higher than pivot\n",
    "        while liste[left] < pivot:\n",
    "            left += 1\n",
    "\n",
    "        # Find first postion in list from the right that has a element lower than pivot\n",
    "        while liste[right] > pivot:\n",
    "            right -= 1\n",
    "\n",
    "        if right >= left :  # swap elements\n",
    "            liste[left], liste[right] = liste[right], liste[left]\n",
    "            left += 1\n",
    "            right -= 1\n",
    "\n",
    "    return left\n",
    "\n",
    "liste = [1,-1,4,5,-2,3,9,1,-7,4,8,-2]\n",
    "quicksort(liste)\n",
    "\n",
    "\n",
    "\n",
    "\n"
   ]
  }
 ],
 "metadata": {
  "interpreter": {
   "hash": "a290f780ee47b7dfaf60850b6ed37e591df7deb7c526863d2cdd3e0731d70467"
  },
  "kernelspec": {
   "display_name": "Python 3.9.7 ('base')",
   "language": "python",
   "name": "python3"
  },
  "language_info": {
   "codemirror_mode": {
    "name": "ipython",
    "version": 3
   },
   "file_extension": ".py",
   "mimetype": "text/x-python",
   "name": "python",
   "nbconvert_exporter": "python",
   "pygments_lexer": "ipython3",
   "version": "3.9.7"
  },
  "orig_nbformat": 4
 },
 "nbformat": 4,
 "nbformat_minor": 2
}
