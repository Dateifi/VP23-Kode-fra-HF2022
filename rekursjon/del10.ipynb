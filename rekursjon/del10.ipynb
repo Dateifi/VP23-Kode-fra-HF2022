{
 "cells": [
  {
   "cell_type": "markdown",
   "metadata": {},
   "source": [
    "# Rekursjon: Funksjoner som kaller på seg selv\n",
    "\n",
    "Rekursive funksjoner ligner litt på loops, men der får fram den iterative prosessen ved å la funksjonen kalle på seg selv.\n",
    "Vi kan tenke på mange problemstillinger fra dagliglivet som kan formulerers rekursivt. F.eks. gange:\n",
    "\n",
    "```\n",
    "def gå_et_skritt:\n",
    "    hvis ikke framme:\n",
    "        gå_et_skritt()\n",
    "    ellers\n",
    "        return\n",
    "```\n",
    "\n",
    "Det enkleste for å illustrere konseptet programmeringsmessig er å begynne med et eksempel: En funksjon som skriver ut en stadig økende liste av påfølgende tall."
   ]
  },
  {
   "cell_type": "code",
   "execution_count": null,
   "metadata": {},
   "outputs": [],
   "source": [
    "biggest_number = 10\n",
    "\n",
    "def print_number(number) :\n",
    "    if (number <= biggest_number) :\n",
    "        print(number,end=\" \")   # Vi skriver ut\n",
    "        print_number(number+1)  # Vi kaller på oss selv med tallet, bare økt med 1\n",
    "    else :\n",
    "        return\n",
    "    \n",
    "print_number(1)"
   ]
  },
  {
   "cell_type": "markdown",
   "metadata": {},
   "source": [
    "Vi kan se på et annet mer matnyttig eksempel: Regne ut n! som dere kjenner fra matematikken.\n",
    "\n",
    "Dere vet også at $n! = n*(n-1)*(n-2)*....*2*1$\n",
    "\n",
    "Dette kan enkelt løses med en for loop i python"
   ]
  },
  {
   "cell_type": "code",
   "execution_count": null,
   "metadata": {},
   "outputs": [],
   "source": [
    "n = input(\"Gi meg et positivt heltall\")\n",
    "produkt = 1\n",
    "for i in range(int(n)) :\n",
    "    produkt = produkt*i\n",
    "\n",
    "print (\"Svaret er \", produkt)\n"
   ]
  },
  {
   "cell_type": "markdown",
   "metadata": {},
   "source": [
    "MEN: Dette kan også løses på en annen måte, vha. rekursjon. La oss benytte oss av at vi kan omskrive fakultet som\n",
    "\n",
    "1. $n! = n*(n-1)!$\n",
    "2. $(n-1)! = (n-1)*(n-2)!$\n",
    "3. $(n-2)! = (n-2)*(n-3)!$\n",
    "osv.\n",
    "\n",
    "Vi ser at vi har en rekursiv regel her, der beregning i øverste steg avhenger av samme beregningen i neste steg, som igjen avhenger av samme beregning i neste steg osv... Helt til man kommer ned til tallet 1 som er slutt-betingelsen. Hvordan kan vi implementere dette vha. rekursjon?"
   ]
  },
  {
   "cell_type": "code",
   "execution_count": null,
   "metadata": {},
   "outputs": [],
   "source": [
    "# Rekursjon starter med største tallet i produktet\n",
    "def factorial(n) : \n",
    "    if (n > 0) :\n",
    "        return n*factorial(n-1)\n",
    "    else :\n",
    "        return 1   \n",
    "\n",
    "factorial(10)"
   ]
  },
  {
   "cell_type": "markdown",
   "metadata": {},
   "source": [
    "Vi ser at vi MÅ ha en grein i kontrollflyten som stopper rekursjonen.\n",
    "* Kalles basis-operasjonen\n",
    "    * Grunnen til dette er at det er den enkleste varianten som kan bli spurt etter i kallet til den rekursive funksjonen\n",
    "    * Kalles også stopp-betingelsen eller \"stopping condition\"\n",
    "\n",
    "Den andre greina tar seg av **sub-problemet**, der gjerne det rekursive kallet skjer.\n",
    "\n",
    "### Oppgaver til dere: \n",
    "1. Lag en rekursiv funksjon for å regne ut $2^n$ \n",
    "2. Lag en rekursiv funksjon for å regne ut summen av alle tallene fra 1 til n."
   ]
  },
  {
   "cell_type": "markdown",
   "metadata": {},
   "source": [
    "## Case: Fibonacci tall\n",
    "Fibonacci sekvensen er en enkel rekursiv formel, eller differens-ligning, som har inspirert fagområder som arkitektur, biologi, geometri etc..\n",
    "Den kan enkelt defineres som $f_{n} = f_{n-1} + f_{n-2}$, der $f_1 = f_2 = 1$. Vi skal nå se på rekursjon for å regne ut disse tallene:\n"
   ]
  },
  {
   "cell_type": "code",
   "execution_count": null,
   "metadata": {},
   "outputs": [],
   "source": [
    "def fib(n) : \n",
    "    if (n > 2) :\n",
    "        return fib(n-1) + fib(n-2)\n",
    "    elif (n == 2 or n == 1) :\n",
    "        return 1\n",
    "\n",
    "fib(4)"
   ]
  },
  {
   "cell_type": "markdown",
   "metadata": {},
   "source": [
    "Selv om algoritmen blir svært elegant og lesbar er det som skjer bak kulissene nokså komplisert:\n",
    "\n",
    "<img src=\"..\\resources\\img\\fibonacci.png\">\n",
    "\n",
    "F.eks vil fib(10) kreve 177 rekursive kall, og fib(30) 2692537.... \n",
    "* Betyr at det kan være kostbart ressursmessig å bruke rekursjon (minne/CPU-tid)\n",
    "* Kan være vanskelig å debugge\n",
    "Rekursjon må derfor brukes med varsomhet.\n",
    "\n",
    "Sidenote: Credit til Christopher kjente til en mekanisme kalt funksjons-caching som kan brukes for å redusere antall like funksjonskall i en programkjøring vha. caching. Dette er spesielt nyttig i rekursiv sammenheng, og da spesielt når du har nøstede rekursjons-trær slik som vist i figur. Instrumentert kode for dette kan være som under:"
   ]
  },
  {
   "cell_type": "code",
   "execution_count": null,
   "metadata": {},
   "outputs": [],
   "source": [
    "from functools import lru_cache\n",
    "\n",
    "@lru_cache(maxsize=32)\n",
    "def fib(n) : \n",
    "    if (n > 2) :\n",
    "        return fib(n-1) + fib(n-2)\n",
    "    elif (n == 2 or n == 1) :\n",
    "        return 1\n",
    "\n",
    "fib(100) "
   ]
  },
  {
   "cell_type": "markdown",
   "metadata": {},
   "source": [
    "Igjen en liten oppgave til dere. Oppgave 15.2.1 i boka (den nederste varianten). Hva er output av følgende rutine (gjøres uten å implementere)\n",
    "\n",
    "```\n",
    "def m(r) :\n",
    "    return r * m(r-1) if r > 2 else r\n",
    "\n",
    "print (m(4))\n",
    "```\n",
    "## Case: Palindrom deteksjon\n",
    "Et palindrome er en tekst-streng som er symmetrisk, f.eks. \"agnes i senga\". Vi ønsker å lage en algoritme for å bestemme om teksten er et palindrom. Her kan vi benytte fleksibiliteten i python med å ta ut sub-strenger og behandle disse separat.\n"
   ]
  },
  {
   "cell_type": "code",
   "execution_count": null,
   "metadata": {},
   "outputs": [],
   "source": [
    "def is_palindrome(streng) :\n",
    "    if (len(streng) <= 1) :   # Basis tilfelle 1: Stopper dersom strengen er redusert til kun midterste karakter (odde antall) eller ingenting (partall)\n",
    "        return True\n",
    "    elif (streng[0] != streng[len(streng) - 1]) :  # Basis tilfelle: Asymmetri detektert. Stopper og returnerer.\n",
    "        return False\n",
    "    else:\n",
    "        returnVal = is_palindrome(streng[1:len(streng)-1])\n",
    "        return returnVal\n",
    "\n",
    "print(is_palindrome(\"agnes i senga\"))\n",
    "print(is_palindrome(\"anna\"))"
   ]
  },
  {
   "cell_type": "markdown",
   "metadata": {},
   "source": [
    "## Såkalte hjelpe-funksjoner i rekursive kall\n",
    "\n",
    "Denne koden, selv om den er svært enkel i sin form, og derfor lett å forstå seg på, er ikke veldig effektiv pga. at den lager nye strenger\n",
    "for hvert kall som krever ny minne-allokering for hvert rekursive kall.\n",
    "Vi kan effekstivisere dette ved å legg inn posisjons-angivelser i strengen "
   ]
  },
  {
   "cell_type": "code",
   "execution_count": null,
   "metadata": {},
   "outputs": [],
   "source": [
    "def is_palindrome_helper(streng, low, high) :\n",
    "    if (high <= low) :\n",
    "        return True\n",
    "    elif streng[low] != streng[high] :\n",
    "        return False\n",
    "    else :\n",
    "        return is_palindrome_helper(streng, low+1, high-1)\n",
    "\n",
    "def is_palidrome_v2(streng) :\n",
    "    returnVal = is_palindrome_helper(streng, 0, len(streng)-1)  # Angi laveste og høyeste posisjon.\n",
    "    return returnVal\n",
    "\n",
    "print(is_palidrome_v2(\"anna\"))"
   ]
  },
  {
   "cell_type": "markdown",
   "metadata": {},
   "source": [
    "# Case: Towers of Hanoi\n",
    "\n",
    "La oss prøve å formulere dette som en algoritme."
   ]
  },
  {
   "cell_type": "code",
   "execution_count": null,
   "metadata": {},
   "outputs": [],
   "source": [
    "def move_it(n, fra, til, hjelp) :\n",
    "    if n == 1:\n",
    "        print(\"Flytter skive 1 fra\", fra, \"til\", til)\n",
    "    else :\n",
    "        move_it(n-1, fra, hjelp, til) \n",
    "        print(\"Flytter skive\", n, \"fra\", fra, \"til\", til)\n",
    "        move_it(n-1, hjelp, til, fra)\n",
    "\n",
    "move_it(3, 'A', 'C', 'B')"
   ]
  },
  {
   "cell_type": "markdown",
   "metadata": {},
   "source": [
    "## Binært søk\n",
    "\n",
    "Nytt case, søking i ordnet liste etter posisjon til et element. Vi opererer med variable posisjoner i lista, som angir søke-området. Søke-området innsnevres til høyre eller venstre for midterste posisjon til søke-området, avhengig av størrelsen på verdien det søkes etter."
   ]
  },
  {
   "cell_type": "code",
   "execution_count": 2,
   "metadata": {},
   "outputs": [
    {
     "name": "stdout",
     "output_type": "stream",
     "text": [
      "-1\n"
     ]
    }
   ],
   "source": [
    "def recursiveSearch(lst, value) :\n",
    "    return recursiveSearchHelper(lst, value, 0, len(lst)-1)\n",
    "\n",
    "def recursiveSearchHelper(liste, value, low, high) :\n",
    "    \n",
    "    if (high < low) :  # Stopping condition, \n",
    "        return -1\n",
    "    mid = (low + high) // 2  # Midt posisjon, men rundet nedover.\n",
    "    if (liste[mid] == value) :\n",
    "        return mid    # Fant verdi på ny midt-posisjon.\n",
    "    if (value < liste[mid]) :\n",
    "        high = mid-1 # Jeg kan steppe meg et hakk lengre ned, siden jeg allerede har testet at verdien ikke ligger akkurat på midten\n",
    "    elif (value > liste[mid]) :\n",
    "        low = mid+1  # Samme her, jeg stepper meg ett hakker lengre opp, mid trengs ikke å tas med i søkevindu.\n",
    "    val = recursiveSearchHelper(liste, value, low, high)\n",
    "    return val\n",
    "\n",
    "val = recursiveSearch([1,2,3,6,7,19,34], 9)\n",
    "print (val)\n"
   ]
  }
 ],
 "metadata": {
  "interpreter": {
   "hash": "a290f780ee47b7dfaf60850b6ed37e591df7deb7c526863d2cdd3e0731d70467"
  },
  "kernelspec": {
   "display_name": "Python 3.9.7 ('base')",
   "language": "python",
   "name": "python3"
  },
  "language_info": {
   "codemirror_mode": {
    "name": "ipython",
    "version": 3
   },
   "file_extension": ".py",
   "mimetype": "text/x-python",
   "name": "python",
   "nbconvert_exporter": "python",
   "pygments_lexer": "ipython3",
   "version": "3.9.7"
  },
  "orig_nbformat": 4
 },
 "nbformat": 4,
 "nbformat_minor": 2
}
