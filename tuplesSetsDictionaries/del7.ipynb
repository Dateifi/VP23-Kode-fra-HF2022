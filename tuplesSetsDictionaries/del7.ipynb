{
 "cells": [
  {
   "cell_type": "markdown",
   "metadata": {},
   "source": [
    "# Dictionaries\n",
    "Dictionaries, eller også populært kalt Map siden det dreier seg om å mapping fra en nøkkel (key) til en verdi (value), er den siste \"collection\" typen vi skal snakke om.\n",
    "\n",
    "Strukturen ser slik ut:\n",
    "{\n",
    "    nøkkel_1 : verdi_1\n",
    "    nøkkel_2 : verdi_2\n",
    "    .\n",
    "    .\n",
    "    .\n",
    "    nøkkel_N : verdi_N\n",
    "}\n",
    "\n",
    "![DICTIONARY](../resources/img/dictionary.png)\n",
    "\n",
    "\n",
    "Nøklene må selvfølgelig være unike, derfor har denne typen et visst slektskap med set. Verdiene derimot trenger ikke å være det.\n",
    "\n",
    "Nøklene må være unmutable (uforanderlig, dvs. ikke ting som set eller lister), mens verdiene kan være hva som helst"
   ]
  },
  {
   "cell_type": "code",
   "execution_count": null,
   "metadata": {},
   "outputs": [],
   "source": [
    "\n",
    "d1 = dict()  # Tomt dictionary, kan også skrive d1 = {}\n",
    "d2 = {1: \"Hei\", 3: \"Hallo\", \"fint\" : \"flott\", 1.2 : (1,2)}\n",
    "\n",
    "# Fra python doc:\n",
    "a = dict(one=1, two=2, three=3)\n",
    "b = {'one': 1, 'two': 2, 'three': 3}\n",
    "c = dict(zip(['one', 'two', 'three'], [1, 2, 3]))\n",
    "d = dict([('two', 2), ('one', 1), ('three', 3)])\n",
    "e = dict({'three': 3, 'one': 1, 'two': 2})\n",
    "f = dict({'one': 1, 'three': 3}, two=2)\n",
    "\n",
    "a == b == c == d == e == f  # Returnerer true siden det er samme innhold, men initialisert på forskjellige måter.\n",
    "\n",
    "# Referering til verdi\n",
    "d2[\"fint\"] # Refererer til \"flott\", tar altså ut innholdet som strengen \"fint\" peker på, og henter ut strengen \"flott\"\n",
    "\n",
    "# Kan være nye dictionaries (eller andre )\n",
    "d3 = {\"Nøkkel til en dict\": d2, \"En annen nøkkel\" : \"En annen verdi\"}\n",
    "\n",
    "print (d3[\"Nøkkel til en dict\"])\n",
    "try :\n",
    "    d4 = {d2: \"Hmm, sært\"}  # Funker ikke siden d2 er av en mutable type. \n",
    "except TypeError as ex :\n",
    "    print(ex.args[0])\n",
    "\n",
    "# Legge til items\n",
    "a['four'] = 4\n",
    "\n",
    "# Sletting av items:\n",
    "del d2[1]  # nøkkel er 1\n",
    "d2.pop(\"fint\")  # nøkkel er \"fint\"\n",
    "\n",
    "# Vi kan få tak i items, keys og values separat, og bruke disse til å iterere over.\n",
    "print(d2.items())\n",
    "print(d2.keys())\n",
    "# Loops\n",
    "for key in d2.keys():\n",
    "    print(d2[key])\n",
    "\n",
    "# Ekvivalent kode:\n",
    "for key in d2 :\n",
    "    print(d2[key])\n",
    "\n",
    "# Og man vil kunne hente ut alle verdiene direkte \n",
    "for value in d2.values() :\n",
    "    print(value)\n",
    "\n",
    "# Andre nyttige metoder\n",
    "existence = 1 in d2 # Tester om 1 er en nøkkel i d2\n",
    "d2.popitem() # Sletter siste item lagt inn\n",
    "c.clear()  # Sletter alle items"
   ]
  }
 ],
 "metadata": {
  "interpreter": {
   "hash": "a290f780ee47b7dfaf60850b6ed37e591df7deb7c526863d2cdd3e0731d70467"
  },
  "kernelspec": {
   "display_name": "Python 3.9.7 64-bit ('base': conda)",
   "language": "python",
   "name": "python3"
  },
  "language_info": {
   "codemirror_mode": {
    "name": "ipython",
    "version": 3
   },
   "file_extension": ".py",
   "mimetype": "text/x-python",
   "name": "python",
   "nbconvert_exporter": "python",
   "pygments_lexer": "ipython3",
   "version": "3.9.7"
  },
  "orig_nbformat": 4
 },
 "nbformat": 4,
 "nbformat_minor": 2
}
