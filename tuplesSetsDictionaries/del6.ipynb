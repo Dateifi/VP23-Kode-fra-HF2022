{
 "cells": [
  {
   "cell_type": "markdown",
   "metadata": {},
   "source": [
    "# Tuples and sets\n",
    "Typen `tuple` ligner på `list` typen, men er uforanderlig. Dvs. har du først laget en `tuple`, så kan du ikke legge til/fjerne elementer. Innholdet i en tuple deklareres gjerne mellom to vanlige paranteser (), eventuelt uten noe som helst, bare ',' i mellom elementene."
   ]
  },
  {
   "cell_type": "code",
   "execution_count": null,
   "metadata": {},
   "outputs": [],
   "source": [
    "t1 = tuple([1, 2, 3, 4])\n",
    "t5 = tuple(\"aldkøadøfa\")\n",
    "t2 = (\"Yalla\", \"jolle\", (1,2,3))\n",
    "t3 = (1,2,3), 'i', '123'\n",
    "# t1.append(3)  # Kan ikke legge til\n",
    "\n",
    "# Indexering og slicing fungerer akkurat som tidligere\n",
    "forsteElement = t3[0]\n",
    "resten = t3[1:] \n",
    "\n",
    "#Iterering over en tuple fungerer akkurat som før\n",
    "for bokstav in t5 :\n",
    "    print(bokstav, end=' ')\n"
   ]
  },
  {
   "cell_type": "markdown",
   "metadata": {},
   "source": [
    "Hvorfor bruker vi ikke bare lister da?\n",
    "1. Beskyttelse mot endring der vi ikke ønsker den muligheten\n",
    "2. Det går opp mot 1000 ganger raksere å operere på tupler enn lister.\n",
    "3. Veldig mye brukt type i python\n",
    "\n",
    "# Sets\n",
    "Sets er en tredje \"collection\" i python som kun inneholder unike elementer. Man kan f.eks ikke ha bokstaven s med mer enn en gang i et set. \n",
    "\n",
    "**NB: Elementene vil nødvendigvis ikke ligge i den rekkefølgen som de ble puttet inn i settet med når du aksesserer det...**"
   ]
  },
  {
   "cell_type": "code",
   "execution_count": 13,
   "metadata": {},
   "outputs": [
    {
     "data": {
      "text/plain": [
       "2"
      ]
     },
     "execution_count": 13,
     "metadata": {},
     "output_type": "execute_result"
    }
   ],
   "source": [
    "s1 = set('foo')  # Her initialiseres set med elementene 'f' 'o' og så blir den andre 'o' ignorert...\n",
    "s2 = set([1,2,3,4,1,2])  # Tallene 1 og 2 ignoreres ved siste \"occurance\"\n",
    "\n",
    "s1.add('bar') # Her betraktes 'bar' som et helt element, splittes ikke opp i karakterer\n",
    "# s2.remove(5) # Går ikke, siden 5 ikke er i settet\n",
    "s2.discard(5) # Går videre uten exception\n",
    "\n",
    "# s3 = {1, [1,2,3], ('foo', 'bar')}  # Hva skjedde her? Jo, et set kan ikke ha elementer som er \"mutable\". Den midterste listen er det...\n",
    "\n",
    "s3 = {1, ('foo', 'bar')} # En tuple er som kjent ikke mulig å endre (unmutable), så den lar seg inkludere.\n",
    "\n",
    "1 in s3  # Jupp\n",
    "'foo' in s3 # Nope, siden 'foo' må være pakket inn i en tuple\n",
    "# Vi kan også bruke metoder som len(), max(), min() og sum() på set slik som for lister og tupler\n",
    "\n",
    "max(s2)"
   ]
  },
  {
   "cell_type": "markdown",
   "metadata": {},
   "source": [
    "## Metoder for å se på forskjeller mellom set, og ekstrahere ut forskjellige subset basert på ulikhetene mellom disse\n",
    "\n",
    "Man metoder for å finne snitt/union/forskjell mellom to sett på samme måte som for matematiske mengder. Illustrasjon på tavla følger..\n",
    "\n",
    "La oss lage noen eksempler, og gå gjennom alle variantene\n",
    "\n",
    "### Union\n",
    "En union kombinerer alt som er i begge settene"
   ]
  },
  {
   "cell_type": "code",
   "execution_count": null,
   "metadata": {},
   "outputs": [],
   "source": [
    "s1 = {1,2,3}\n",
    "s2 = {3,4,5}\n",
    "s1 | s2 \n",
    "s1.union(s2) # Dette vil bli {1,2,3,4,5}\n"
   ]
  },
  {
   "cell_type": "markdown",
   "metadata": {},
   "source": [
    "### Snitt\n",
    "Et snitt inneholder de elementene som er felles mellom de to settene"
   ]
  },
  {
   "cell_type": "code",
   "execution_count": null,
   "metadata": {},
   "outputs": [],
   "source": [
    "s1 & s2\n",
    "s1.intersection(s2)   # Dette vil bli {3}"
   ]
  },
  {
   "cell_type": "markdown",
   "metadata": {},
   "source": [
    "### Subsett\n",
    "Operatorene < > <= >= kan også brukes i tillegg til == selvfølgelig. \n",
    "Om man ikke vil bruke operatorene, kan metodene issuperset() issubset()"
   ]
  },
  {
   "cell_type": "code",
   "execution_count": null,
   "metadata": {},
   "outputs": [],
   "source": [
    "s1 = {1,2,3}\n",
    "s2 = {1,2,3}\n",
    "\n",
    "print(s1 == s2) # Ok selvfølgelig\n",
    "print(s1 <= s2) # OK siden s1 == s2\n",
    "print(s1 < s2)  # Ikke OK Alle elementene i s1 må være i s2 og det må være minst ett mer i s2 (proper subset)\n",
    "\n",
    "s2 = {1,2}\n",
    "print(s2.issubset(s1)) # samme som <="
   ]
  },
  {
   "cell_type": "markdown",
   "metadata": {},
   "source": [
    "### Differanse \n",
    "s1 - s2 vil gi deg de elementene som er i s1 men som ikke er med i s2.\n",
    "s1 + s2 vil bli som union av s1 og s2 (siden snittet uansett bare vil bli med en gang pga. unikhets-regelen)"
   ]
  },
  {
   "cell_type": "code",
   "execution_count": null,
   "metadata": {},
   "outputs": [],
   "source": [
    "s1 = {\"Hei\", \"Hå\", \"Blå\", \"Rød\"}\n",
    "s2 = {\"Blå\", \"Rød\", \"Grønn\"}\n",
    "\n",
    "s1 - s2  # Vil inneholde {\"Hei\", \"Hå\"}\n",
    "s2 - s1  # Vil inneholde {\"Grønn\"}"
   ]
  },
  {
   "cell_type": "markdown",
   "metadata": {},
   "source": [
    "### Symmetrisk differanse, eller \"XOR\", exclusive or.\n",
    "Bruker ^ operatoren eller symmetric_difference() metoden for dette. Gir deg unionen mellom to sett s1 og s2, men tar vekk de elementene som er i begge. Kan dere uttrykke dette med de operatorene vi allerede har lært?"
   ]
  },
  {
   "cell_type": "code",
   "execution_count": null,
   "metadata": {},
   "outputs": [],
   "source": [
    "print(s1 ^ s2)\n",
    "s1.symmetric_difference(s2)\n",
    "sUnion = s1 | s2\n",
    "print(sUnion)\n",
    "sSnitt = s1 & s2\n",
    "print(sSnitt)\n",
    "print(sUnion - sSnitt)  # Vi tar vekk snittet fra unionen med andre ord, det vil bli det samme ;-)\n",
    "\n",
    "# Men kunne vi ikke bare ha skrevet det slik?\n",
    "s1 | s2 - s1 & s2   # NEI, siden vi har noe som kalles operator-presedens. - utføres først, deretter & og så |.\n",
    "(s1 | s2) - (s1 & s2) # Paranteser rundt det vi vil ha utført først vil fikse problemet ;-)\n"
   ]
  },
  {
   "cell_type": "markdown",
   "metadata": {},
   "source": [
    "### Eksempel på anvendelse\n",
    "Finne forekomsten av en viss type ord i en fil. La oss si at jeg ønsket å finne forekomsten av grafikk-relaterte tagger i en  web-addresse, slik som \"canvas\", \"button\", \"dialog\" etc.\n",
    "\n",
    "PS: Siden jeg ikke er så befaren i web-prog, så ble nok dette et litt oppkonstruert eksempel :-/"
   ]
  },
  {
   "cell_type": "code",
   "execution_count": 2,
   "metadata": {},
   "outputs": [],
   "source": [
    "import urllib\n",
    "\n",
    "graphicsObjects = {\"cavnas\", \"button\", \"dialog\"} \n",
    "\n",
    "# url = \"https://uit.no\"\n",
    "url = input(\"give me your url\")\n",
    "input = urllib.request.urlopen(url)\n",
    "text = input.read().decode()\n",
    "words = text.split(' ')\n",
    "count = 0\n",
    "for w in words :\n",
    "    if w in graphicsObjects :\n",
    "        count += 1\n",
    "\n",
    "input.close()"
   ]
  }
 ],
 "metadata": {
  "kernelspec": {
   "display_name": "Python 3",
   "language": "python",
   "name": "python3"
  },
  "language_info": {
   "codemirror_mode": {
    "name": "ipython",
    "version": 3
   },
   "file_extension": ".py",
   "mimetype": "text/x-python",
   "name": "python",
   "nbconvert_exporter": "python",
   "pygments_lexer": "ipython3",
   "version": "3.10.0 (tags/v3.10.0:b494f59, Oct  4 2021, 19:00:18) [MSC v.1929 64 bit (AMD64)]"
  },
  "orig_nbformat": 4,
  "vscode": {
   "interpreter": {
    "hash": "b48f70ab81d2f78f348a8478a884d66c9d9246104aaf7b2223d188fa15c2b017"
   }
  }
 },
 "nbformat": 4,
 "nbformat_minor": 2
}
