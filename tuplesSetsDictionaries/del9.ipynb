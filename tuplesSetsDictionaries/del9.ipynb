{
 "cells": [
  {
   "cell_type": "markdown",
   "metadata": {},
   "source": [
    "# Litt om kopiering\n",
    "\n",
    "I en programmeringsverden ønsker man ofte å gjøre en kopi fra en \"instans\" av en klasse/liste/dictionary/etc til noe annet, og derfra kanskje endre på denne kopien. Da er det viktig å legge merke til forskjellen mellom assignment, shallow copy og deep copy. Nedenfor vises et bilde som illustrerer dette:\n",
    "\n",
    "<img src=\"../resources/img/deep_vs_shallow_copy.png\" width=500 />\n",
    "\n",
    "Her ser vi en liste som inneholder nøstede elementer (en streng og et tall). Vi ser at assignment peker på samme objekt, en shallow copy \n",
    "tar en unik kopi på første nivå (altså elementene i lista får NYE addresser) men ikke på nøstede nivåer (elementenes innhold i kopi peker på samme \n",
    "streng/tall som orginalen). I en deep copy endres imidlertid alle referanser og gis nye plasser i minnet."
   ]
  },
  {
   "cell_type": "code",
   "execution_count": null,
   "metadata": {},
   "outputs": [],
   "source": [
    "# Først se på helt enkel assignment\n",
    "\n",
    "orig = 3\n",
    "cpy = orig  # Egentlig ikke en kopi, samme primitiv!\n",
    "print(\"Same ref? \", id(cpy) == id(orig)) # Referansen er den samme...\n",
    "\n",
    "# Ikke problem for unmutable stuff, siden en ny assignment vil lage en referanse\n",
    "cpy = 5\n",
    "print(\"Same ref? \", id(cpy) == id(orig)) # Referansen er ikke lengre den samme :-)\n",
    "print(orig, cpy)\n",
    "\n",
    "# Hva nå med en liste?\n",
    "orig = [1, 2, 3, 4]\n",
    "cpy = orig\n",
    "cpy[1] = 100\n",
    "print(orig)\n",
    "print(cpy)   # Begge fikk tallet 100 i pos 1 siden...\n",
    "print(\"Same ref on top level?\", id(cpy) == id(orig))\n",
    "\n",
    "# Vi kan gjøre en shallow cpy på forskjellige måter\n",
    "import copy\n",
    "cpy = copy.copy(orig)\n",
    "cpy = orig.copy()\n",
    "cpy = list(orig)\n",
    "cpy[:] = orig[:]\n",
    "print(\"Same ref on top level?\", id(cpy) == id(orig))  # Ikke samme ID lengre\n",
    "orig[1] = 2  # Setter orginalen tilbake\n",
    "print(orig)\n",
    "print(cpy)\n",
    "\n",
    "# Hva med elementene etter shallow cpy?\n",
    "print(\"Same ref on element level?\", id(cpy[1]) == id(orig[1]))  # Nei, iallefall ikke når elementet er endret.\n",
    "\n",
    "# Så ser vi på en nøstet struktur\n",
    "orig = [[1,2],\n",
    "        [3,4]]\n",
    "\n",
    "cpy = orig.copy()\n",
    "cpy[0] = [5,6]\n",
    "print(orig)\n",
    "print(cpy)  # Går bra å endre på ting på nivå 1\n",
    "\n",
    "cpy = orig.copy()\n",
    "cpy[0][0] = 100  # Endring på nøstet nivå\n",
    "print(orig)\n",
    "print(cpy)  # Men der skjærer det seg! Kliss like!\n",
    "\n",
    "# For å fikse må vi kjøre deep copy!\n",
    "cpy = copy.deepcopy(orig)\n",
    "cpy[0][0] = 200  # Endring på nøstet nivå\n",
    "print(orig)\n",
    "print(cpy)  # YESS! Orig forskjellig fra cpy!"
   ]
  },
  {
   "cell_type": "markdown",
   "metadata": {},
   "source": [
    "# Noen klasser fra collections i python som kan være nyttig å kjenne til\n",
    "\n",
    "Python tilbyr en collection modul som har en del nyttige klasser som utvider funksjonaliteten til de vanlige \"kontainer\"-klassene som vi har sett på (dict/set/tuple/list)\n",
    "\n",
    "Vi skal se på disse tre: Counter, namedtuple og defaultdict\n"
   ]
  },
  {
   "cell_type": "markdown",
   "metadata": {},
   "source": [
    "## Counter:\n",
    "Dict subklasse som teller \"hashable\" nøkler i input. På den måten en slags blending med set."
   ]
  },
  {
   "cell_type": "code",
   "execution_count": null,
   "metadata": {},
   "outputs": [],
   "source": [
    "from collections import Counter\n",
    "\n",
    "s = \"aabbbbccccccccddddd\"\n",
    "counter = Counter(s)\n",
    "print(counter.items())\n",
    "counter.most_common()  # Sortert liste over (key,value) pairs\n",
    "print(list(counter.elements()))   # Alle elementene som Counter ble initialisert med\n",
    "\n",
    "# Kan også initaliseres fra en liste\n",
    "c = Counter(['eggs', 'ham', 'eggs'])\n",
    "c['bacon']\n",
    "print(c)\n"
   ]
  },
  {
   "cell_type": "markdown",
   "metadata": {},
   "source": [
    "## namedtuple\n",
    "En mulighet for å kreere klasser basert på tupler i argumentet, og samtidig gi mening til hver posisjon"
   ]
  },
  {
   "cell_type": "code",
   "execution_count": null,
   "metadata": {},
   "outputs": [],
   "source": [
    "from collections import namedtuple\n",
    "\n",
    "Point = namedtuple('Point', 'x,y,z')\n",
    "Employee = namedtuple('Employee','name,age,personal_num,address')\n",
    "employee = Employee(\"Helge Fredriksen\", 52, 110969,\"Hyttebakken 31\")\n",
    "pt = Point(1,1,1)\n",
    "print (pt)"
   ]
  },
  {
   "cell_type": "markdown",
   "metadata": {},
   "source": [
    "## defaultdict \n",
    "Subklasse av dict som gir deg en default-verdi ut om du spør på nøkler som ikke finnes"
   ]
  },
  {
   "cell_type": "code",
   "execution_count": null,
   "metadata": {},
   "outputs": [],
   "source": [
    "from collections import defaultdict\n",
    "\n",
    "# Initialiser defaultdict med en type\n",
    "d = defaultdict(int)\n",
    "d['blue'] = 1\n",
    "d['yellow'] = 2\n",
    "print(d['green'])  # Returnerer 0 som er defaultverdi til til en int. Vi slipper at det blir en exception\n",
    "\n",
    "# Her er en smart måte å gruppere en sekvens av (key,value) par til en dictionary der forekomsten av like nøkler \n",
    "# i sekvensen blir håndtert ved å legge til verdiene i en liste for hver unike nøkkel (fra python doc)\n",
    "d = defaultdict(list)\n",
    "s = [('yellow', 1), ('blue', 2), ('yellow', 3), ('blue', 4), ('red', 1)]\n",
    "for key, value in s :\n",
    "    d[key].append(value)\n",
    "\n",
    "print(d)"
   ]
  },
  {
   "cell_type": "markdown",
   "metadata": {},
   "source": [
    "## Oppgave\n",
    "Finn forekomsten av forskjellige bokstaver i en fil ved å bruke Counter klassen. Eventuelt finn antallet av forskjellige nøkkelord i en python fil."
   ]
  },
  {
   "cell_type": "code",
   "execution_count": null,
   "metadata": {},
   "outputs": [],
   "source": []
  }
 ],
 "metadata": {
  "interpreter": {
   "hash": "a290f780ee47b7dfaf60850b6ed37e591df7deb7c526863d2cdd3e0731d70467"
  },
  "kernelspec": {
   "display_name": "Python 3.9.7 ('base')",
   "language": "python",
   "name": "python3"
  },
  "language_info": {
   "codemirror_mode": {
    "name": "ipython",
    "version": 3
   },
   "file_extension": ".py",
   "mimetype": "text/x-python",
   "name": "python",
   "nbconvert_exporter": "python",
   "pygments_lexer": "ipython3",
   "version": "3.9.7"
  },
  "orig_nbformat": 4
 },
 "nbformat": 4,
 "nbformat_minor": 2
}
