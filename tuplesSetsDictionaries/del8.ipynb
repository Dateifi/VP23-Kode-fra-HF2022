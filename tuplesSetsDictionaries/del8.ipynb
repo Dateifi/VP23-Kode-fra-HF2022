{
 "cells": [
  {
   "cell_type": "markdown",
   "metadata": {},
   "source": [
    "# JSON\n",
    "\n",
    "JSON står for Javascript Object Notation, og er et tekst-basert lagringsformat som er lett å lese/tolke både for mennesker og datamaskiner, uavhengig av språk eller platform.\n",
    "\n",
    "Brukes nå av veldig mange selskaper/organisasjoner for å utveksle data, så det er essensielt (men også enkelt) å lære seg.\n",
    "\n",
    "Elementene i en json-struktur kan være dictionaries eller lister på ytterste nivå. Inne i disse listene/dictionaries kan det så være lagret primitiver som tall, strenger og booleans, og/eller nye lister/dictionaries. Nøsting er således støttet på samme måte som i python selv.\n",
    "\n",
    "Det er enklest å forstå strukturen ved å se på et eksempel, her eksempel.json\n",
    "\n",
    "## Eksempel på parsing av en json fil"
   ]
  },
  {
   "cell_type": "code",
   "execution_count": 2,
   "metadata": {},
   "outputs": [
    {
     "name": "stdout",
     "output_type": "stream",
     "text": [
      "Fant telefon av typen: mobil med nummer 912 34 567\n",
      "Fant telefon av typen: hjem med nummer 12 34 56 78\n",
      "Fant telefon av typen: fax med nummer 87 65 43 21\n"
     ]
    }
   ],
   "source": [
    "import json\n",
    "\n",
    "with open(\"eksempel.json\") as file:\n",
    "    eksempelData = json.load(file)\n",
    "\n",
    "# Vi vet at det som kommer er en dictionary (men burde kanskje hatt en sjekk?)\n",
    "fornavn = eksempelData[\"fornavn\"]\n",
    "etternavn = eksempelData[\"etternavn\"]\n",
    "addresse = eksempelData[\"adresse\"] # Addresse feltet er et nytt dictionary...\n",
    "gate = addresse[\"gateadresse\"]\n",
    "postnummer = addresse[\"postnummer\"]\n",
    "telefoner = eksempelData[\"telefonnumre\"] # Dette vil være en liste, der hvert item er en dict\n",
    "for telefon in telefoner :\n",
    "    print(f\"Fant telefon av typen: {telefon['type']} med nummer {telefon['nummer']}\")\n",
    "\n",
    "# Eksempelkode på parsing av fila:\n",
    "# if (isinstance(eksempelData, dict)) :\n",
    "#     for key in eksempelData:   # Nøkkel bør være en unmutable (streng eller tall)\n",
    "#         value = eksempelData[key]\n",
    "#         print (f\"I {key} ligger noe av type: {type(value)}\")\n",
    "\n",
    "# elif (isinstance(eksempelData, list)) :\n",
    "#     for item in eksempelData:\n",
    "#         print(f\"Dette liste-elementet er av type {type(item)}\")\n"
   ]
  },
  {
   "cell_type": "markdown",
   "metadata": {},
   "source": [
    "# Eksempel på skriving til json\n",
    "\n",
    "Skriving til en json fil kan foregå som dette. Her har vi et eksempel på dumping av en liste som inneholder en dictionary."
   ]
  },
  {
   "cell_type": "code",
   "execution_count": 3,
   "metadata": {},
   "outputs": [],
   "source": [
    "myDict = {1: \"one\", 2: \"two\"}\n",
    "myList = [1, 2, 3, myDict]\n",
    "with open(\"jsonoutput.json\", \"w\") as file:\n",
    "    json.dump(myList, file)\n"
   ]
  },
  {
   "cell_type": "markdown",
   "metadata": {},
   "source": [
    "# Objekt skriving/lesing\n",
    "\n",
    "Objekter, eller instanser av klasser, som vi omgir oss med har sine interne datastrukturer. Disse kan vi ønske å serialisere/deserialisere for å sende over nett f.eks via json.\n",
    "\n",
    "Dette må gjøres via egne encoder/decoder klasser i python\n",
    "\n",
    "Ref: https://oxylabs.io/blog/python-parse-json\n",
    "\n",
    "Det finnes også en mulighet for å gjøre dette automagisk vha. en modul som heter jsonpickle, som gjør livet like enkelt som med bruk av pickle. MEN: Da får man samme sikkerhets-risiko som med pickle ved at utilsiktet kode kan bli kjørt.\n"
   ]
  },
  {
   "cell_type": "code",
   "execution_count": 5,
   "metadata": {},
   "outputs": [
    {
     "name": "stdout",
     "output_type": "stream",
     "text": [
      "1836428149376\n",
      "1836427320752\n",
      "True\n"
     ]
    }
   ],
   "source": [
    "class Country:\n",
    "    def __init__(self, name, population, languages):\n",
    "        self.name = name    \n",
    "        self.population = population\n",
    "        self.languages = languages\n",
    "        \n",
    "    def __eq__(self, other):\n",
    "        if self.name == other.name and self.population == other.population and self.languages == other.languages:\n",
    "            return True\n",
    "        else:\n",
    "            return False\n",
    "\n",
    "    \n",
    "canada = Country(\"Canada\", 37742154, [\"English\", \"French\"])\n",
    "print(id(canada))\n",
    "\n",
    "# print(json.dumps(canada)) Går ikke siden Country klassen ikke er \"json serialiserbar\"\n",
    "\n",
    "# Må definere en klasse som arver fra JSONEncoder klassen for å håndtere dette eksplisitt\n",
    "class CountryEncoder(json.JSONEncoder):\n",
    "    def default(self, o): \n",
    "        if isinstance(o, Country):\n",
    "           # JSON object would be a dictionary.\n",
    "            return {\n",
    "                \"name\" : o.name,\n",
    "                \"population\": o.population,\n",
    "                \"languages\": o.languages\n",
    "                } \n",
    "        else:\n",
    "            # Base class will raise the TypeError.\n",
    "            return super().default(o)\n",
    "\n",
    "jsonString = json.dumps(canada, cls=CountryEncoder)\n",
    "\n",
    "# På samme måte må vi definere en decoder klasse om man ønsker å lese tilbake objektet:\n",
    "\n",
    "class CountryDecoder(json.JSONDecoder) :\n",
    "    def __init__(self, object_hook=None, *args, **kwargs):\n",
    "        super().__init__(object_hook=self.object_hook, *args, **kwargs)\n",
    "\n",
    "    def object_hook(self, o):\n",
    "        decoded_country =  Country(\n",
    "            o.get('name'), \n",
    "            o.get('population'), \n",
    "            o.get('languages'),\n",
    "        )\n",
    "        return decoded_country\n",
    "\n",
    "country_object = json.loads(jsonString, cls=CountryDecoder)\n",
    "#print(type(country_object))\n",
    "print(id(country_object))\n",
    "print(country_object == canada)  # Hmm, hvorfor ikke???"
   ]
  }
 ],
 "metadata": {
  "kernelspec": {
   "display_name": "Python 3",
   "language": "python",
   "name": "python3"
  },
  "language_info": {
   "codemirror_mode": {
    "name": "ipython",
    "version": 3
   },
   "file_extension": ".py",
   "mimetype": "text/x-python",
   "name": "python",
   "nbconvert_exporter": "python",
   "pygments_lexer": "ipython3",
   "version": "3.10.0 (tags/v3.10.0:b494f59, Oct  4 2021, 19:00:18) [MSC v.1929 64 bit (AMD64)]"
  },
  "orig_nbformat": 4,
  "vscode": {
   "interpreter": {
    "hash": "b48f70ab81d2f78f348a8478a884d66c9d9246104aaf7b2223d188fa15c2b017"
   }
  }
 },
 "nbformat": 4,
 "nbformat_minor": 2
}
