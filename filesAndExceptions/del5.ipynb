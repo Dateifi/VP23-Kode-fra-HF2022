{
 "cells": [
  {
   "cell_type": "markdown",
   "metadata": {},
   "source": [
    "# Litt om file IO.\n",
    "\n",
    "File IO er en fellesbetegnelse for fil-operasjoner, der man kan tenke seg å jobbe med input og output operasjoner i parallell. Konseptuelt kan man forestille seg at man leser fra \"strømmer\" og skriver til andre \"strømmer\", gjerne til/fra en fil, men kanskje også fra en nettverks-kobling eller en terminal. Man kan til og med strømme data til/fra strenger.\n",
    "\n",
    "De viktige kallene når man skal \"spole\" fram og tilbake i en slik strøm er kallet seek() og tell() på en filpeker. Ellers er det bare å bruke read() og write() som vanlig."
   ]
  },
  {
   "cell_type": "code",
   "execution_count": 1,
   "metadata": {},
   "outputs": [
    {
     "name": "stdout",
     "output_type": "stream",
     "text": [
      "c:\\devel\\python\\teaching\\DTE-2511\\filesAndExceptions\n",
      " sagittis.\n",
      "32 115 97 103 105 116 116 105 115 46 "
     ]
    }
   ],
   "source": [
    "import os\n",
    "import shutil\n",
    "\n",
    "print(os.getcwd())\n",
    "fo = open(\"fileIO.txt\", \"r+\", encoding=\"utf-8\")\n",
    "pos1 = fo.tell()  # Start of file, but if append mode, it's in the end!\n",
    "fo.seek(0) # Ensure positioning at the beginning.\n",
    "pos2 = fo.tell()  # Should be at the start\n",
    "fo.seek(40)  # Step 40 characters into the file\n",
    "pos3 = fo.tell()  \n",
    "str = fo.read(3)\n",
    "posAfterReadingDog = fo.tell()\n",
    "fo.seek(40) # Go back to start of position for dog\n",
    "fo.write(\"cat\") # Overwrite \"dog\" with \"cat\"\n",
    "fo.seek(40)\n",
    "strCat = fo.read(3)\n",
    "fo.flush()  # For små data-endringer som dette, trenger man egentlig ikke dette kallet..\n",
    "\n",
    "# Lesing fra slutten av fila\n",
    "fo.seek(0,2)  # Tallet 2 på slutten angir at man begynner på slutten av fila.\n",
    "fileSize = fo.tell()\n",
    "fo.seek(fileSize - 10) \n",
    "endString = fo.read(10)\n",
    "\n",
    "byts = bytes(endString, 'utf-8')\n",
    "print(endString)\n",
    "for b in byts :\n",
    "    print(b, end=\" \")\n",
    "\n",
    "\n",
    "\n"
   ]
  }
 ],
 "metadata": {
  "interpreter": {
   "hash": "a290f780ee47b7dfaf60850b6ed37e591df7deb7c526863d2cdd3e0731d70467"
  },
  "kernelspec": {
   "display_name": "Python 3.9.7 64-bit ('base': conda)",
   "language": "python",
   "name": "python3"
  },
  "language_info": {
   "codemirror_mode": {
    "name": "ipython",
    "version": 3
   },
   "file_extension": ".py",
   "mimetype": "text/x-python",
   "name": "python",
   "nbconvert_exporter": "python",
   "pygments_lexer": "ipython3",
   "version": "3.9.7"
  },
  "orig_nbformat": 4
 },
 "nbformat": 4,
 "nbformat_minor": 2
}
