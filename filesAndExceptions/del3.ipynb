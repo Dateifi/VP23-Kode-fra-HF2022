{
 "cells": [
  {
   "cell_type": "markdown",
   "metadata": {},
   "source": [
    "# Exception handling\n",
    "\n",
    "Handler om å håndtere feilsituasjoner på en strukturert måte. Det kan kastes exception og fanges exception. Når noe eksepsjonelt skjer, så må man i egen kode avbryte eksekveringen i det scopet der man er, og hoppe ut i et annet scope."
   ]
  },
  {
   "cell_type": "code",
   "execution_count": 3,
   "metadata": {},
   "outputs": [
    {
     "name": "stdout",
     "output_type": "stream",
     "text": [
      "Caught unknown exception: could not convert string to float: '<!DOCTYPE HTML>\\r'\n"
     ]
    }
   ],
   "source": [
    "import urllib.request\n",
    "from urllib.error import *\n",
    "\n",
    "try:\n",
    "    url = \"https://uit.no\"\n",
    "    input = urllib.request.urlopen(url)\n",
    "    text = input.read().decode()\n",
    "    lines = text.split('\\n')\n",
    "    for line in lines :\n",
    "        f = float(line)\n",
    "\n",
    "\n",
    "except URLError as ex:\n",
    "    print(\"Caught exception: \" + ex.reason)\n",
    "\n",
    "except BaseException as ex:\n",
    "    print(\"Caught unknown exception: \" + str(ex.args[0]))\n",
    "\n",
    "except:\n",
    "    pass\n",
    "\n",
    "else:\n",
    "    print(\"No exception happened!\")\n",
    "    \n",
    "finally:\n",
    "    print(\"Dette kjører alltid!\")\n",
    "    input.close()\n",
    "\n",
    "    "
   ]
  },
  {
   "cell_type": "markdown",
   "metadata": {},
   "source": [
    "# Eksempel på klasse med 'exception' håndering\n",
    "\n",
    "Vi skal her skrive en klasse som representer et andregradspolynom og der vi kan finne røttene til dette.\n",
    "I tillegg ønsker vi å lage en egen exception klasse som \"enkapsulerer\" alt av feil som kan oppstå i denne klassen"
   ]
  },
  {
   "cell_type": "code",
   "execution_count": 8,
   "metadata": {},
   "outputs": [
    {
     "name": "stdout",
     "output_type": "stream",
     "text": [
      "Got exception: You tried to construct a polynomial with non-numeric coeffisients\n"
     ]
    }
   ],
   "source": [
    "class PolynomialSolverException(Exception) :\n",
    "    def __init__(self, message) :\n",
    "        super().__init__()\n",
    "        self.message = message\n",
    "\n",
    "from math import sqrt\n",
    "\n",
    "class SecondOrderPolynomal :\n",
    "    def __init__(self, *args) :\n",
    "        for arg in args :\n",
    "            if not isinstance(arg,(int, float)) :\n",
    "                raise PolynomialSolverException(\"You tried to construct a polynomial with non-numeric coeffisients\")\n",
    "        self.__a, self.__b, self.__c = args[0], args[1], args[2]\n",
    "\n",
    "    def findRoots(self) :\n",
    "        try:\n",
    "            root1 = (-self.__b + sqrt(self.__b**2 - 4*self.__a*self.__c))/(2*self.__a)\n",
    "            root2 = (-self.__b - sqrt(self.__b**2 - 4*self.__a*self.__c))/(2*self.__a)\n",
    "            return root1, root2\n",
    "        except ValueError as ex:\n",
    "            raise PolynomialSolverException(\"Negative discriminant\")\n",
    "\n",
    "\n",
    "try:\n",
    "    polynom = SecondOrderPolynomal('a',1,-1)\n",
    "    root1, root2 = polynom.findRoots()\n",
    "except PolynomialSolverException as ex:\n",
    "    print(\"Got exception: \" + ex.message)\n",
    "else:\n",
    "    print(f\"Found root1 as {root1} and root2 as {root2}\")\n",
    "\n",
    "\n"
   ]
  }
 ],
 "metadata": {
  "interpreter": {
   "hash": "a290f780ee47b7dfaf60850b6ed37e591df7deb7c526863d2cdd3e0731d70467"
  },
  "kernelspec": {
   "display_name": "Python 3.9.7 64-bit ('base': conda)",
   "language": "python",
   "name": "python3"
  },
  "language_info": {
   "codemirror_mode": {
    "name": "ipython",
    "version": 3
   },
   "file_extension": ".py",
   "mimetype": "text/x-python",
   "name": "python",
   "nbconvert_exporter": "python",
   "pygments_lexer": "ipython3",
   "version": "3.9.7"
  },
  "orig_nbformat": 4
 },
 "nbformat": 4,
 "nbformat_minor": 2
}
