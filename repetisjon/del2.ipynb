{
 "cells": [
  {
   "cell_type": "markdown",
   "metadata": {},
   "source": [
    "# Klasser \n",
    "\n",
    "En klasse er egentlig bare en samling av funkjoner og variable som hører naturlig sammen i en entitet. Funksjoner kalles her metoder og variablene kalles attributter. Metoder og attributter kan enten gjøres privat eller offentlig (public). Når de er private er de ment å kun aksesseres internt i klassen, mens de som er public aksesseres eksternt.\n",
    "\n",
    "Under viser vi et eksempel på en klasse \"vektor\"."
   ]
  },
  {
   "cell_type": "code",
   "execution_count": 5,
   "metadata": {},
   "outputs": [
    {
     "name": "stdout",
     "output_type": "stream",
     "text": [
      "Vector: (1.0, 1.0000000000000002)\n"
     ]
    }
   ],
   "source": [
    "from math import sin, cos, pi\n",
    "\n",
    "class Vector : \n",
    "\n",
    "    # Contructor\n",
    "    def __init__(self, x=0, y=0, polar=False) : # if given in polar coordinates, interpret x as length, and y as angle\n",
    "        if ( polar ) :\n",
    "            self.__x = x*cos(y)\n",
    "            self.__y = x*sin(y)\n",
    "        else :\n",
    "            self.__x = x\n",
    "            self.__y = y\n",
    "        self.filename = str(id(self)) + \".txt\"\n",
    "\n",
    "    @property\n",
    "    def x(self) :\n",
    "        return self.__x\n",
    "\n",
    "    @property\n",
    "    def y(self) :\n",
    "        return self.__y\n",
    "\n",
    "    @x.setter\n",
    "    def x(self, x) :\n",
    "        self.__x = x\n",
    "\n",
    "    @y.setter\n",
    "    def y(self, y) :\n",
    "        self.__y = y\n",
    "\n",
    "    def __str__(self) :\n",
    "        return f\"Vector: ({self.__x}, {self.__y})\"\n",
    "\n",
    "    def __add__(self, other) :\n",
    "        return Vector(self.__x + other.__x, self.__y + other.__y)\n",
    "\n",
    "    def __mul__(self, other) :\n",
    "        return self.__x*other.__x + self.__y*other.__y\n",
    "\n",
    "    def save(self) :\n",
    "        with open(self.filename, \"w\") as file : \n",
    "            file.write(f\"{self.__x}, {self.__y}\")\n",
    "            # file.write(self)\n",
    "    \n",
    "    def load(self) :\n",
    "        with open(self.filename, \"r\") as file :\n",
    "            coords = file.readline()  # Format is \"x, y\"\n",
    "\n",
    "        xAndy = coords.split(\",\")\n",
    "        self.__x = float(xAndy[0])\n",
    "        self.__y = float(xAndy[1])\n",
    "\n",
    "u = Vector(2,1)\n",
    "v = Vector(1,pi, True)\n",
    "\n",
    "# print(u)\n",
    "# print(v)\n",
    "\n",
    "w = u + v\n",
    "w.filename = \"w.txt\"\n",
    "w.save()\n",
    "\n",
    "w.x = 120\n",
    "w.y = 340\n",
    "\n",
    "w.load()\n",
    "\n",
    "print(w)\n",
    "\n",
    "# print(u*v)\n",
    "\n",
    "\n"
   ]
  }
 ],
 "metadata": {
  "interpreter": {
   "hash": "a290f780ee47b7dfaf60850b6ed37e591df7deb7c526863d2cdd3e0731d70467"
  },
  "kernelspec": {
   "display_name": "Python 3.9.7 64-bit ('base': conda)",
   "language": "python",
   "name": "python3"
  },
  "language_info": {
   "codemirror_mode": {
    "name": "ipython",
    "version": 3
   },
   "file_extension": ".py",
   "mimetype": "text/x-python",
   "name": "python",
   "nbconvert_exporter": "python",
   "pygments_lexer": "ipython3",
   "version": "3.9.7"
  },
  "orig_nbformat": 4
 },
 "nbformat": 4,
 "nbformat_minor": 2
}
