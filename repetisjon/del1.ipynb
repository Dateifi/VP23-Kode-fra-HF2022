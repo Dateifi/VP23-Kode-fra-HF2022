{
 "cells": [
  {
   "cell_type": "markdown",
   "metadata": {},
   "source": [
    "# Repetisjon \n",
    "Kommer til å gå gjennom en del av de grunnleggende tingene fra \"Grunnleggende programmering\", kanskje ispedd noen oppgaver underveis for å komme igang litt igjen.\n",
    "\n",
    "## Struktur\n",
    "1. Jeg viser litt om forskjellige konsepter i en jupyter code celle som jeg enten har lagt på forhånd, eller som jeg koder underveis\n",
    "2. Jeg gir dere i oppgave å løse en oppgave, og deretter tilordner jeg dere til ulike \"breakout\" rooms i discord\n",
    "3. Dere løser oppgaven i grupper, kanskje vha. peer programming? Dere finner en måte å gjøre dette på. Jeg beveger meg mellom rommene og kommenterer, ser på hva dere holder på med, gir hint hvis mulig.\n",
    "4. Vi samles etter en angitt tid igjen i plenum og gruppene presenterer det de har gjort på en kortfattet måte til de andre i klassen\n",
    "5. Jeg går videre til neste konsept og gjør en ny iterasjon i denne loopen"
   ]
  },
  {
   "cell_type": "markdown",
   "metadata": {},
   "source": [
    "# Typer i python\n",
    "\n",
    "Typene i python deles inn i primitiver, sett, sekvenser og ordlister. Selv om strenger er regnet for å være en primitiv, er den også en liste av karakterer som man kan iterere over, så denne er litt dualistisk i natur..."
   ]
  },
  {
   "cell_type": "code",
   "execution_count": null,
   "metadata": {},
   "outputs": [],
   "source": [
    "# Hjelpe-funksjoner\n",
    "def printSekvens(sekvens):\n",
    "    for s in sekvens:\n",
    "        print(s)\n",
    "\n",
    "def booleanFunksjon ( test: int ) :\n",
    "    print(test)\n",
    "\n",
    "# Primitiver\n",
    "myStr: str = \"Sånn passe flink lærer\"\n",
    "myInt: int = 123\n",
    "myFloat: float = 123.12e10\n",
    "myBool: bool = False\n",
    "\n",
    "# Set\n",
    "mySet: set = {1, \"Flaske\", 1.23, \"Flaske\"} # Kun unike innslag\n",
    "\n",
    "# printSekvens(mySet)\n",
    "\n",
    "# Sekvenser\n",
    "myRange: range = range(11, 0, -2)\n",
    "myList = [1, 2, 3]\n",
    "myTuple = (1, [1,2,3], (1,2), \"Hello\") # Oppfører seg som statisk liste\n",
    "\n",
    "# Ordbok\n",
    "myDictionary: dict = {\"Jenny\" : 3, \"Per\" : 2, \"Gunnar\" : 5}\n",
    "# printSekvens(myDictionary)\n",
    "\n",
    "#Endring\n",
    "myList.append(\"Nissen i berget\")\n",
    "myList.insert(2, \"Tjo og hei\")\n",
    "\n",
    "# printSekvens(myList)\n",
    "\n",
    "booleanFunksjon(myStr)\n",
    "\n"
   ]
  },
  {
   "cell_type": "markdown",
   "metadata": {},
   "source": [
    "## Kontrollflyt\n",
    "\n",
    "Kontroll-flyt er en fellesbetegnelse for bruk av boolske uttrykk og if/else/elif for å kontrollere hvilken kode som kjører under gitte betingelser"
   ]
  },
  {
   "cell_type": "code",
   "execution_count": 2,
   "metadata": {},
   "outputs": [
    {
     "name": "stdout",
     "output_type": "stream",
     "text": [
      "number is even\n"
     ]
    }
   ],
   "source": [
    "# relasjonelle operatorer: <, >, ==, <=, >=, !=\n",
    "\n",
    "# Initiering\n",
    "b1 = bool(0)\n",
    "b2 = bool(1)\n",
    "\n",
    "# if/elif\n",
    "x = 15\n",
    "if x > 15 or x < 10 :\n",
    "    y = 1\n",
    "elif x > 5 :\n",
    "    y = 2\n",
    "\n",
    "# Conditional expressions\n",
    "v = 1 if x > 0 else 2\n",
    "number = 6\n",
    "print(\"number is even\" if number % 2 == 0 else \"numer is odd\" )\n"
   ]
  },
  {
   "cell_type": "markdown",
   "metadata": {},
   "source": [
    "# Funksjoner og løkker. \n",
    "\n",
    "Her viser vi et eksempel på de to løkketypene \"for\" og \"while\". \n",
    "\n",
    "Funksjonen isPrime har vi laget for å gjøre koden mer lesbar i dette tilfellet.\n",
    "\n",
    "Selve hovedkoden går gjennom alle tallene under en viss Range og sjekker for primtall. Prøv gjerne å sett denne høyere og sjekk hva som skjer ;-)"
   ]
  },
  {
   "cell_type": "code",
   "execution_count": null,
   "metadata": {},
   "outputs": [],
   "source": [
    "def isPrime( n ) :\n",
    "    i = 2\n",
    "    while ( i < n ) :\n",
    "        if ( n % i == 0 ):\n",
    "            return False\n",
    "        i += 1\n",
    "    return True\n",
    "\n",
    "# Loops: Find all prime below Range\n",
    "Range = 100\n",
    "for i in range(1,Range+1) :\n",
    "    if isPrime(i) :\n",
    "        print(\"Found a prime. It was: \" + str(i))\n",
    "\n"
   ]
  }
 ],
 "metadata": {
  "interpreter": {
   "hash": "a290f780ee47b7dfaf60850b6ed37e591df7deb7c526863d2cdd3e0731d70467"
  },
  "kernelspec": {
   "display_name": "Python 3.9.7 64-bit ('base': conda)",
   "language": "python",
   "name": "python3"
  },
  "language_info": {
   "codemirror_mode": {
    "name": "ipython",
    "version": 3
   },
   "file_extension": ".py",
   "mimetype": "text/x-python",
   "name": "python",
   "nbconvert_exporter": "python",
   "pygments_lexer": "ipython3",
   "version": "3.9.7"
  },
  "orig_nbformat": 4
 },
 "nbformat": 4,
 "nbformat_minor": 2
}
